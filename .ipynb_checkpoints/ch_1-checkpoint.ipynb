{
 "cells": [
  {
   "cell_type": "markdown",
   "metadata": {},
   "source": [
    "# Print"
   ]
  },
  {
   "cell_type": "code",
   "execution_count": 1,
   "metadata": {},
   "outputs": [
    {
     "name": "stdout",
     "output_type": "stream",
     "text": [
      "i am akhtr bilal\n"
     ]
    }
   ],
   "source": [
    "print(\"i am akhtr bilal\") #ap jo bhe qutation may lektay ho python apko wahe print karyga#\n"
   ]
  },
  {
   "cell_type": "code",
   "execution_count": 2,
   "metadata": {},
   "outputs": [
    {
     "name": "stdout",
     "output_type": "stream",
     "text": [
      "i am student of bscs\n"
     ]
    }
   ],
   "source": [
    "print('i am student of bscs') # agar ap single quote may koy chez lektay tab bhe apko output wahe melyga jo ap nay input keya hai#\n"
   ]
  },
  {
   "cell_type": "code",
   "execution_count": 3,
   "metadata": {},
   "outputs": [
    {
     "name": "stdout",
     "output_type": "stream",
     "text": [
      "4\n",
      "4.0\n",
      "27\n"
     ]
    }
   ],
   "source": [
    "print(2+2)\n",
    "print(8/2)\n",
    "print(9*3)\n",
    "#agar hum koy operatin  use karty hai for example additon substraction division to hum es tarah bhe kar aktay hai#\n"
   ]
  },
  {
   "cell_type": "code",
   "execution_count": null,
   "metadata": {},
   "outputs": [],
   "source": [
    "# to ye tha chapter 1 esmay hum sirf print function use kartay hai#"
   ]
  }
 ],
 "metadata": {
  "kernelspec": {
   "display_name": "Python 3",
   "language": "python",
   "name": "python3"
  },
  "language_info": {
   "codemirror_mode": {
    "name": "ipython",
    "version": 3
   },
   "file_extension": ".py",
   "mimetype": "text/x-python",
   "name": "python",
   "nbconvert_exporter": "python",
   "pygments_lexer": "ipython3",
   "version": "3.7.1"
  }
 },
 "nbformat": 4,
 "nbformat_minor": 2
}
